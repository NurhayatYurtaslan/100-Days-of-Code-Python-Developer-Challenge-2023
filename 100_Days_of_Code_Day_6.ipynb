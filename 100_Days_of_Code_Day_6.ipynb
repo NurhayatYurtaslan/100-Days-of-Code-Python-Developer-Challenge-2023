{
  "nbformat": 4,
  "nbformat_minor": 0,
  "metadata": {
    "colab": {
      "provenance": [],
      "authorship_tag": "ABX9TyM5FPKJwtaW1M9NpqtbrtEq",
      "include_colab_link": true
    },
    "kernelspec": {
      "name": "python3",
      "display_name": "Python 3"
    },
    "language_info": {
      "name": "python"
    }
  },
  "cells": [
    {
      "cell_type": "markdown",
      "metadata": {
        "id": "view-in-github",
        "colab_type": "text"
      },
      "source": [
        "<a href=\"https://colab.research.google.com/github/NurhayatYurtaslan/100-Days-of-Code-Python-Developer-Challenge-2023/blob/main/100_Days_of_Code_Day_6.ipynb\" target=\"_parent\"><img src=\"https://colab.research.google.com/assets/colab-badge.svg\" alt=\"Open In Colab\"/></a>"
      ]
    },
    {
      "cell_type": "markdown",
      "source": [
        "### **100 Days of Code: Python Developer Challenge 2023 - Day 6** "
      ],
      "metadata": {
        "id": "sgDP3X3d9_o0"
      }
    },
    {
      "cell_type": "markdown",
      "source": [
        "# Exercise1:\n",
        "The following text is given:\n",
        "\n",
        "text = 'We learn python language becouse we love it'\n",
        "\n",
        "Using the appropriate method count the number of occurrences of the letter 'a' and print the console ."
      ],
      "metadata": {
        "id": "CdV5VjZY1-ea"
      }
    },
    {
      "cell_type": "code",
      "execution_count": 1,
      "metadata": {
        "colab": {
          "base_uri": "https://localhost:8080/"
        },
        "id": "wSFgfmZD0uvQ",
        "outputId": "ef4d6b97-3c32-4e1e-82e5-6990e2ce247a"
      },
      "outputs": [
        {
          "output_type": "stream",
          "name": "stdout",
          "text": [
            "Number of occurrences: 3\n"
          ]
        }
      ],
      "source": [
        "text = 'We learn python language becouse we love it'\n",
        "\n",
        "print(f\"Number of occurrences: {text.count('a')}\")"
      ]
    },
    {
      "cell_type": "markdown",
      "source": [
        "# Exercise2:\n",
        "\n",
        "The following codes are given:\n",
        "\n",
        "code1 = 'FVNISJND-XX-aX3851'\n",
        "\n",
        "code2 = 'FVNISJND-XY-AX3851'\n",
        "\n",
        "code3 = 'FVNISJND-XY-Ax3851'\n",
        "\n",
        "code4 = 'FVNISJND-XY-ax3851'\n",
        "\n",
        "Using the appropriate method check if the codes end in 'aX3851'.Print the result to the console."
      ],
      "metadata": {
        "id": "XhjJCWj439wW"
      }
    },
    {
      "cell_type": "code",
      "source": [
        "code1 = 'FQNISJND-XX-aX3851'\n",
        "code2 = 'FYNISJND-XY-AX3851'\n",
        "code3 = 'FZNISJND-XY-Ax3851'\n",
        "code4 = 'FTNISJND-XY-ax3851'\n",
        "\n",
        "print(f\"code1: {code1.endswith('aX3851')}\")\n",
        "print(f\"code2: {code2.endswith('aX3851')}\")\n",
        "print(f\"code3: {code3.endswith('aX3851')}\")\n",
        "print(f\"code4: {code4.endswith('aX3851')}\")"
      ],
      "metadata": {
        "colab": {
          "base_uri": "https://localhost:8080/"
        },
        "id": "x2PT-Y6P4C6t",
        "outputId": "1436032e-1e4d-4d2e-b7d2-4e7b70424533"
      },
      "execution_count": 7,
      "outputs": [
        {
          "output_type": "stream",
          "name": "stdout",
          "text": [
            "code1: True\n",
            "code2: False\n",
            "code3: False\n",
            "code4: False\n"
          ]
        }
      ]
    },
    {
      "cell_type": "markdown",
      "source": [
        "# Exercise3:\n",
        "\n",
        "The following codes are given:\n",
        "\n",
        "path1 = 'linkedin.com/in/nurhayatyurtaslan/'\n",
        "\n",
        "path2 = 'github.com/NurhayatYurtaslan'\n",
        "\n",
        "path3 = 'medium.com/@nurhayatyurtaslan'\n",
        "\n",
        "path4 = '1000kitap.com/Nur_life'\n",
        "\n",
        "Using the appropriate method check if the codes starts in 'github'.Print the result to the console."
      ],
      "metadata": {
        "id": "C8M3xePM-Czd"
      }
    },
    {
      "cell_type": "code",
      "source": [
        "path1 = 'linkedin.com/in/nurhayatyurtaslan/'\n",
        "path2 = 'github.com/NurhayatYurtaslan'\n",
        "path3 = 'medium.com/@nurhayatyurtaslan'\n",
        "path4 = '1000kitap.com/Nur_life'\n",
        "\n",
        "print(f\"path1: {path1.startswith('github')}\")\n",
        "print(f\"path2: {path2.startswith('github')}\")\n",
        "print(f\"path3: {path3.startswith('github')}\")\n",
        "print(f\"path4: {path4.startswith('github')}\")"
      ],
      "metadata": {
        "colab": {
          "base_uri": "https://localhost:8080/"
        },
        "id": "Mn2nv2Ol-JJK",
        "outputId": "18a6d020-7f3b-468f-ca81-29e0d1829743"
      },
      "execution_count": 8,
      "outputs": [
        {
          "output_type": "stream",
          "name": "stdout",
          "text": [
            "path1: False\n",
            "path2: True\n",
            "path3: False\n",
            "path4: False\n"
          ]
        }
      ]
    }
  ]
}