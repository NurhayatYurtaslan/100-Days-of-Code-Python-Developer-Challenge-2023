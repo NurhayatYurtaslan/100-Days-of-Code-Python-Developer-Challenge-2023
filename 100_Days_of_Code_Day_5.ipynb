{
  "nbformat": 4,
  "nbformat_minor": 0,
  "metadata": {
    "colab": {
      "provenance": [],
      "authorship_tag": "ABX9TyPKKLsG7OXIeZkilbjErCLG",
      "include_colab_link": true
    },
    "kernelspec": {
      "name": "python3",
      "display_name": "Python 3"
    },
    "language_info": {
      "name": "python"
    }
  },
  "cells": [
    {
      "cell_type": "markdown",
      "metadata": {
        "id": "view-in-github",
        "colab_type": "text"
      },
      "source": [
        "<a href=\"https://colab.research.google.com/github/NurhayatYurtaslan/100-Days-of-Code-Python-Developer-Challenge-2023/blob/main/100_Days_of_Code_Day_5.ipynb\" target=\"_parent\"><img src=\"https://colab.research.google.com/assets/colab-badge.svg\" alt=\"Open In Colab\"/></a>"
      ]
    },
    {
      "cell_type": "markdown",
      "source": [
        "### **100 Days of Code: Python Developer Challenge 2023 - Day 5** "
      ],
      "metadata": {
        "id": "4oyIUOL48apo"
      }
    },
    {
      "cell_type": "markdown",
      "source": [
        "# Exercise1:\n",
        "\n",
        "The following variables are given:\n",
        "\n",
        "var1 = None\n",
        "\n",
        "var2 = False\n",
        "\n",
        "var3 = 'True'\n",
        "\n",
        "Print each type of variable on a separate line to the console."
      ],
      "metadata": {
        "id": "x_5K_FBSTSx4"
      }
    },
    {
      "cell_type": "code",
      "execution_count": null,
      "metadata": {
        "colab": {
          "base_uri": "https://localhost:8080/"
        },
        "id": "P55vAaeUR-Gi",
        "outputId": "945ceb3b-e0f0-4a8b-d3af-b748b7880cf4"
      },
      "outputs": [
        {
          "output_type": "stream",
          "name": "stdout",
          "text": [
            "<class 'NoneType'>\n",
            "<class 'bool'>\n",
            "<class 'str'>\n"
          ]
        }
      ],
      "source": [
        "var1 = None\n",
        "var2 = False\n",
        "var3 = 'True'\n",
        "\n",
        "print(type(var1))\n",
        "print(type(var2))\n",
        "print(type(var3))"
      ]
    },
    {
      "cell_type": "markdown",
      "source": [
        "# Exercise2:\n",
        "\n",
        "Check if the following variable:\n",
        "\n",
        "flag = False\n",
        "\n",
        "is an instance of the bool class and print the result to the console."
      ],
      "metadata": {
        "id": "bcwnVRq8Z-js"
      }
    },
    {
      "cell_type": "code",
      "source": [
        "flag = False\n",
        " \n",
        " \n",
        "print(isinstance(flag, bool))"
      ],
      "metadata": {
        "colab": {
          "base_uri": "https://localhost:8080/"
        },
        "id": "KXBUPpmwaDou",
        "outputId": "83a33fa7-e1ae-48fa-b8ef-6cffa8f3c85b"
      },
      "execution_count": null,
      "outputs": [
        {
          "output_type": "stream",
          "name": "stdout",
          "text": [
            "True\n"
          ]
        }
      ]
    },
    {
      "cell_type": "markdown",
      "source": [
        "# Exercise3:\n",
        "\n",
        "The following text is given:\n",
        "\n",
        "text = 'python is a popular programming language.'\n",
        "\n",
        "Use the appropriate method to replace the first letter of the text with uppercase. Print the result to the console."
      ],
      "metadata": {
        "id": "AM29PTydbBv9"
      }
    },
    {
      "cell_type": "code",
      "source": [
        "text = 'python is a popular programming language.'\n",
        " \n",
        " \n",
        "print(text.capitalize())"
      ],
      "metadata": {
        "colab": {
          "base_uri": "https://localhost:8080/"
        },
        "id": "nHipAJkhbCRa",
        "outputId": "a57019e9-a9ac-40dc-ea61-a243956d86aa"
      },
      "execution_count": null,
      "outputs": [
        {
          "output_type": "stream",
          "name": "stdout",
          "text": [
            "Python is a popular programming language.\n"
          ]
        }
      ]
    }
  ]
}