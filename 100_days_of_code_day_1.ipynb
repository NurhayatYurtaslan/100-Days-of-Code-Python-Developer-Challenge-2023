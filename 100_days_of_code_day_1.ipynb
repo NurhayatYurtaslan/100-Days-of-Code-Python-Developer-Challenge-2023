{
  "nbformat": 4,
  "nbformat_minor": 0,
  "metadata": {
    "colab": {
      "provenance": [],
      "authorship_tag": "ABX9TyN61rP94Ty1Xg+rK50GDCU/",
      "include_colab_link": true
    },
    "kernelspec": {
      "name": "python3",
      "display_name": "Python 3"
    },
    "language_info": {
      "name": "python"
    }
  },
  "cells": [
    {
      "cell_type": "markdown",
      "metadata": {
        "id": "view-in-github",
        "colab_type": "text"
      },
      "source": [
        "<a href=\"https://colab.research.google.com/github/NurhayatYurtaslan/100-Days-of-Code-Python-Developer-Challenge-2023/blob/main/100_days_of_code_day_1.ipynb\" target=\"_parent\"><img src=\"https://colab.research.google.com/assets/colab-badge.svg\" alt=\"Open In Colab\"/></a>"
      ]
    },
    {
      "cell_type": "markdown",
      "source": [
        "### **100 Days of Code: Python Developer Challenge 2023 - Day 1** \n"
      ],
      "metadata": {
        "id": "ojSWJ1E0qlT5"
      }
    },
    {
      "cell_type": "markdown",
      "source": [
        "# Exercise1: \n",
        "\n",
        "Create two variables (you can freely choose the names) and assign to them following values:\n",
        "\n",
        "-Python\n",
        "\n",
        "-3.8.16\n",
        "\n",
        "Using these variables and the print() function, print to the console."
      ],
      "metadata": {
        "id": "crO3YIPJqwyl"
      }
    },
    {
      "cell_type": "code",
      "execution_count": null,
      "metadata": {
        "colab": {
          "base_uri": "https://localhost:8080/"
        },
        "id": "N6ajQgJ8qkdj",
        "outputId": "7372e3de-522b-46a3-cfe2-4d241f29e1b9"
      },
      "outputs": [
        {
          "output_type": "stream",
          "name": "stdout",
          "text": [
            "I love Python 3.8.16!\n"
          ]
        }
      ],
      "source": [
        "x = 'Python'\n",
        "y = '3.8.16'\n",
        " \n",
        " \n",
        "print(f'I love {x} {y}!')"
      ]
    },
    {
      "cell_type": "markdown",
      "source": [
        "# Exercise 2:\n",
        "Assign two variables that store the following values:\n",
        "\n",
        "-$ 51.99 - product price (float)\n",
        "\n",
        "-38 lbs - product weight (int)\n",
        "\n",
        "Using the f-string formatting style print to the console."
      ],
      "metadata": {
        "id": "aqIzGcl4rWUj"
      }
    },
    {
      "cell_type": "code",
      "source": [
        "p=51.99\n",
        "w=38\n",
        "\n",
        "print(f'Price: ${p}. Weight: {w} lbs.')"
      ],
      "metadata": {
        "colab": {
          "base_uri": "https://localhost:8080/"
        },
        "id": "xbNhnJy9sKJl",
        "outputId": "9d3d7433-9444-4e8b-bd77-9fecd8c1cd6a"
      },
      "execution_count": null,
      "outputs": [
        {
          "output_type": "stream",
          "name": "stdout",
          "text": [
            "Price: $51.99. Weight: 38 lbs.\n"
          ]
        }
      ]
    },
    {
      "cell_type": "markdown",
      "source": [
        "# Exercise 3:\n",
        "\n",
        "Write a program that calculates the area of a circle with a radius = 10. Use an approximate value of pi. \n",
        "\n",
        "Let's take it as pi = 3.14 and show the result in the console."
      ],
      "metadata": {
        "id": "05m2a8tfsarb"
      }
    },
    {
      "cell_type": "code",
      "source": [
        "pi = 3.14\n",
        "r = 10\n",
        " \n",
        "A = pi * r ** 2\n",
        " \n",
        " \n",
        "print(f'Area: {A:.1f}')"
      ],
      "metadata": {
        "colab": {
          "base_uri": "https://localhost:8080/"
        },
        "id": "Dl7aZbQstc9R",
        "outputId": "fbd2430b-5b51-417c-c673-fbb35a0f0fe4"
      },
      "execution_count": null,
      "outputs": [
        {
          "output_type": "stream",
          "name": "stdout",
          "text": [
            "Area: 314.0\n"
          ]
        }
      ]
    },
    {
      "cell_type": "markdown",
      "source": [
        "# Exercise 4:\n",
        "Write a program that calculates the future value of 1250 USD with an annual interest rate of 2%, annual capitalization and a 6-year investment period. Round the result to the nearest cent.\n",
        "Tip: Use compound capitalization of interest.\n",
        "Let's show the result in the console!"
      ],
      "metadata": {
        "id": "v6tvrvfru0Uz"
      }
    },
    {
      "cell_type": "code",
      "source": [
        "pv = 1250\n",
        "r = 0.02\n",
        "n = 6\n",
        " \n",
        "fv = pv * (1 + r) ** n\n",
        " \n",
        " \n",
        "print(f'The future value of the investment: {fv:.2f} USD')"
      ],
      "metadata": {
        "id": "uLjfjx8pvqVp",
        "colab": {
          "base_uri": "https://localhost:8080/"
        },
        "outputId": "6c7df968-42cb-4063-c60b-2ffdc84b0e13"
      },
      "execution_count": null,
      "outputs": [
        {
          "output_type": "stream",
          "name": "stdout",
          "text": [
            "The future value of the investment: 1407.70 USD\n"
          ]
        }
      ]
    }
  ]
}