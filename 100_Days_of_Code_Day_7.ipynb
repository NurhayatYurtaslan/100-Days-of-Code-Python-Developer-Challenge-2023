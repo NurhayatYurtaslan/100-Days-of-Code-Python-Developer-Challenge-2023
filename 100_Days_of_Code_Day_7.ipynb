{
  "nbformat": 4,
  "nbformat_minor": 0,
  "metadata": {
    "colab": {
      "provenance": [],
      "authorship_tag": "ABX9TyP7V85fnBoz+6quRHZmxMiB",
      "include_colab_link": true
    },
    "kernelspec": {
      "name": "python3",
      "display_name": "Python 3"
    },
    "language_info": {
      "name": "python"
    }
  },
  "cells": [
    {
      "cell_type": "markdown",
      "metadata": {
        "id": "view-in-github",
        "colab_type": "text"
      },
      "source": [
        "<a href=\"https://colab.research.google.com/github/NurhayatYurtaslan/100-Days-of-Code-Python-Developer-Challenge-2023/blob/main/100_Days_of_Code_Day_7.ipynb\" target=\"_parent\"><img src=\"https://colab.research.google.com/assets/colab-badge.svg\" alt=\"Open In Colab\"/></a>"
      ]
    },
    {
      "cell_type": "markdown",
      "source": [
        "### **100 Days of Code: Python Developer Challenge 2023 - Day 7** \n"
      ],
      "metadata": {
        "id": "1jPiRTrb2Cld"
      }
    },
    {
      "cell_type": "markdown",
      "source": [
        "# Exercise1:\n",
        "The following codes are given:\n",
        "\n",
        "code1 = 'Python3.3.11'\n",
        "\n",
        "code2 = 'PythonLoVe_U'\n",
        "\n",
        "code3 = 'P-y-t-h-o-n'\n",
        "\n",
        "code4 = 'Python3LoveU'\n",
        "\n",
        "\n",
        "Using the appropriate method, check whether the codes consist only of alphanumeric characters (numbers + letters). Print the result to the consol."
      ],
      "metadata": {
        "id": "_DAzDj1E2Ipw"
      }
    },
    {
      "cell_type": "code",
      "execution_count": 1,
      "metadata": {
        "colab": {
          "base_uri": "https://localhost:8080/"
        },
        "id": "fmC2w5IT2Bxu",
        "outputId": "d4b97311-de60-4a2a-bfc7-58e42f849de8"
      },
      "outputs": [
        {
          "output_type": "stream",
          "name": "stdout",
          "text": [
            "code1: False\n",
            "code2: False\n",
            "code3: False\n",
            "code4: True\n"
          ]
        }
      ],
      "source": [
        "code1 = 'Python3.3.11'\n",
        "code2 = 'PythonLoVe_U'\n",
        "code3 = 'P-y-t-h-o-n'\n",
        "code4 = 'Python3LoveU'\n",
        " \n",
        " \n",
        "print(f'code1: {code1.isalnum()}')\n",
        "print(f'code2: {code2.isalnum()}')\n",
        "print(f'code3: {code3.isalnum()}')\n",
        "print(f'code4: {code4.isalnum()}')"
      ]
    },
    {
      "cell_type": "markdown",
      "source": [
        "# Exercise2:\n",
        "\n",
        "The following text is given:\n",
        "\n",
        "text = '100 Days of Code: Python Developer Challenge 2023 | Day 7'\n",
        "\n",
        "\n",
        "Using the appropriate method convert all letters to lowercase. Print the result to the console."
      ],
      "metadata": {
        "id": "VCLLLKB43GEO"
      }
    },
    {
      "cell_type": "code",
      "source": [
        "text = '100 Days of Code: Python Developer Challenge 2023 | Day 7'\n",
        " \n",
        " \n",
        "print(text.lower())"
      ],
      "metadata": {
        "colab": {
          "base_uri": "https://localhost:8080/"
        },
        "id": "wr9jQls13MRU",
        "outputId": "c81c7bb7-be2f-4bf0-9dc0-077b024a8dbf"
      },
      "execution_count": 2,
      "outputs": [
        {
          "output_type": "stream",
          "name": "stdout",
          "text": [
            "100 days of code: python developer challenge 2023 | day 7\n"
          ]
        }
      ]
    },
    {
      "cell_type": "markdown",
      "source": [
        "# Exercise3: \n",
        "\n",
        "The following text is given:\n",
        "\n",
        "text = '100-Days-of-Code:-Python-Developer-Challenge-2023 | Day-7'\n",
        "\n",
        "\n",
        "Using the appropriate method replace the dashes with a space. Print the result to the console."
      ],
      "metadata": {
        "id": "1OUsVbaR5UHn"
      }
    },
    {
      "cell_type": "code",
      "source": [
        "text = '100-Days-of-Code:-Python-Developer-Challenge-2023 | Day-7'\n",
        "\n",
        "print(text.replace('-', ' '))"
      ],
      "metadata": {
        "colab": {
          "base_uri": "https://localhost:8080/"
        },
        "id": "fiAH-g3N5W1K",
        "outputId": "a4439f0a-646b-410a-f4be-3f8bcfb10e48"
      },
      "execution_count": 3,
      "outputs": [
        {
          "output_type": "stream",
          "name": "stdout",
          "text": [
            "100 Days of Code: Python Developer Challenge 2023 | Day 7\n"
          ]
        }
      ]
    }
  ]
}
