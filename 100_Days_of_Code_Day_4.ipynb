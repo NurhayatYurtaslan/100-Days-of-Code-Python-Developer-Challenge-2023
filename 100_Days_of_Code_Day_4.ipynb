{
  "nbformat": 4,
  "nbformat_minor": 0,
  "metadata": {
    "colab": {
      "provenance": [],
      "authorship_tag": "ABX9TyNjOn+xBIyfEDqU/+aj6LFm",
      "include_colab_link": true
    },
    "kernelspec": {
      "name": "python3",
      "display_name": "Python 3"
    },
    "language_info": {
      "name": "python"
    }
  },
  "cells": [
    {
      "cell_type": "markdown",
      "metadata": {
        "id": "view-in-github",
        "colab_type": "text"
      },
      "source": [
        "<a href=\"https://colab.research.google.com/github/NurhayatYurtaslan/100-Days-of-Code-Python-Developer-Challenge-2023/blob/main/100_Days_of_Code_Day_4.ipynb\" target=\"_parent\"><img src=\"https://colab.research.google.com/assets/colab-badge.svg\" alt=\"Open In Colab\"/></a>"
      ]
    },
    {
      "cell_type": "markdown",
      "source": [
        "### **100 Days of Code: Python Developer Challenge 2023 - Day 4** "
      ],
      "metadata": {
        "id": "6h17T7778PSX"
      }
    },
    {
      "cell_type": "markdown",
      "source": [
        "# Exercise1:\n",
        "\n",
        "Calculate the geometric mean of the following numbers: 4, 8, 4.5, 15"
      ],
      "metadata": {
        "id": "97zGTYl5Jq0y"
      }
    },
    {
      "cell_type": "code",
      "execution_count": null,
      "metadata": {
        "colab": {
          "base_uri": "https://localhost:8080/"
        },
        "id": "_qD25HdAHY4f",
        "outputId": "c49d7fdf-bb45-40f3-94dc-f77b3e84929b"
      },
      "outputs": [
        {
          "output_type": "stream",
          "name": "stdout",
          "text": [
            "Geometric average of the given numbers: 6.82\n"
          ]
        }
      ],
      "source": [
        "x1, x2, x3, x4 = 4, 8, 4.5, 15\n",
        " \n",
        "geo = (x1 * x2 * x3 * x4) ** (1 / 4)\n",
        " \n",
        "print(f'Geometric average of the given numbers: {geo:.2f}')"
      ]
    },
    {
      "cell_type": "markdown",
      "source": [
        "# Exercise2:\n",
        "\n",
        "From the following text:\n",
        "\n",
        "string = 'PKV-89415-PLN'\n",
        "\n",
        "extract the code containing the first three and last three characters."
      ],
      "metadata": {
        "id": "n2QdJl41KjOM"
      }
    },
    {
      "cell_type": "code",
      "source": [
        "string = 'PKV-89415-PLN'\n",
        " \n",
        "code = string[:3] + string[-3:]\n",
        " \n",
        " \n",
        "print(code)"
      ],
      "metadata": {
        "colab": {
          "base_uri": "https://localhost:8080/"
        },
        "id": "mmv0nMnkKoG4",
        "outputId": "9d85d82a-68ec-44a5-824a-a8f6719e79aa"
      },
      "execution_count": null,
      "outputs": [
        {
          "output_type": "stream",
          "name": "stdout",
          "text": [
            "PKVPLN\n"
          ]
        }
      ]
    },
    {
      "cell_type": "markdown",
      "source": [
        "# Exercise3:\n",
        "\n",
        "From the following text:\n",
        "\n",
        "string = '1 0 0 1 0 1'\n",
        "\n",
        "remove spaces using slicing. Then convert the result to decimal notation.\n",
        "\n"
      ],
      "metadata": {
        "id": "6Y2S8PNhLF3V"
      }
    },
    {
      "cell_type": "code",
      "source": [
        "string = '1 0 0 1 0 1'\n",
        " \n",
        "binary = string[::2]\n",
        "number = int(binary, 2)\n",
        " \n",
        " \n",
        "print(f'Number found: {number}')"
      ],
      "metadata": {
        "colab": {
          "base_uri": "https://localhost:8080/"
        },
        "id": "WDnW_riBLuoX",
        "outputId": "d3904786-6efe-4dd9-a3ec-3b2100247f60"
      },
      "execution_count": null,
      "outputs": [
        {
          "output_type": "stream",
          "name": "stdout",
          "text": [
            "Number found: 37\n"
          ]
        }
      ]
    },
    {
      "cell_type": "markdown",
      "source": [
        "# Exercise4:\n",
        "\n",
        "Using the slicing, reverse the order of the characters in the following text:\n",
        "\n",
        "text = '100 days of code'\n",
        "\n",
        "Print the result."
      ],
      "metadata": {
        "id": "zCXsVI35M2he"
      }
    },
    {
      "cell_type": "code",
      "source": [
        "text = '100 days of code'\n",
        " \n",
        " \n",
        "print(text[::-1])"
      ],
      "metadata": {
        "colab": {
          "base_uri": "https://localhost:8080/"
        },
        "id": "s9V9RxvqM7DK",
        "outputId": "7a4fde14-90d1-4557-820f-3323cfc5d8a4"
      },
      "execution_count": null,
      "outputs": [
        {
          "output_type": "stream",
          "name": "stdout",
          "text": [
            "edoc fo syad 001\n"
          ]
        }
      ]
    }
  ]
}