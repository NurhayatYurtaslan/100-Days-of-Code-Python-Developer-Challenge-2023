{
  "nbformat": 4,
  "nbformat_minor": 0,
  "metadata": {
    "colab": {
      "provenance": [],
      "authorship_tag": "ABX9TyMoOejYDHIFUzUxQPKfYcSq",
      "include_colab_link": true
    },
    "kernelspec": {
      "name": "python3",
      "display_name": "Python 3"
    },
    "language_info": {
      "name": "python"
    }
  },
  "cells": [
    {
      "cell_type": "markdown",
      "metadata": {
        "id": "view-in-github",
        "colab_type": "text"
      },
      "source": [
        "<a href=\"https://colab.research.google.com/github/NurhayatYurtaslan/100-Days-of-Code-Python-Developer-Challenge-2023/blob/main/100_Days_of_Code_Day_3.ipynb\" target=\"_parent\"><img src=\"https://colab.research.google.com/assets/colab-badge.svg\" alt=\"Open In Colab\"/></a>"
      ]
    },
    {
      "cell_type": "markdown",
      "source": [
        "# Exercise1:\n",
        "\n",
        "Calculate the midpoint of the segment with ends at the points: \n",
        "\n",
        "A = (3, 8), B = (-5, -1) ."
      ],
      "metadata": {
        "id": "U-fW6lSICoHk"
      }
    },
    {
      "cell_type": "code",
      "execution_count": null,
      "metadata": {
        "colab": {
          "base_uri": "https://localhost:8080/"
        },
        "id": "4ZF_CtfCCniZ",
        "outputId": "784bf7ce-3725-497b-d4d2-a0386c80f383"
      },
      "outputs": [
        {
          "output_type": "stream",
          "name": "stdout",
          "text": [
            "The middle point: (-1.0, 3.5)\n"
          ]
        }
      ],
      "source": [
        "a1 = 3\n",
        "a2 = 8\n",
        "b1 = -5\n",
        "b2 = -1\n",
        " \n",
        "s1 = (a1 + b1) / 2\n",
        "s2 = (a2 + b2) / 2\n",
        " \n",
        " \n",
        "print(f'The middle point: ({s1}, {s2})')"
      ]
    },
    {
      "cell_type": "markdown",
      "source": [
        "# Exercise2:\n",
        "\n",
        "Calculate the distance of two points A = (8, 2), B = (- 1, -5)."
      ],
      "metadata": {
        "id": "b3LgeENkCzWs"
      }
    },
    {
      "cell_type": "code",
      "source": [
        "a1 = 8\n",
        "a2 = 2\n",
        "b1 = -1\n",
        "b2 = -5\n",
        " \n",
        "distance = ((b1 - a1) ** 2 + (b2 - a2) ** 2)**(1/2)\n",
        " \n",
        " \n",
        "print(f'The distance between points A and B: {distance}')"
      ],
      "metadata": {
        "colab": {
          "base_uri": "https://localhost:8080/"
        },
        "id": "b-ntidhtDVlT",
        "outputId": "e5850442-a265-4297-95e1-36f70bf1e0de"
      },
      "execution_count": null,
      "outputs": [
        {
          "output_type": "stream",
          "name": "stdout",
          "text": [
            "The distance between points A and B: 11.40175425099138\n"
          ]
        }
      ]
    },
    {
      "cell_type": "markdown",
      "source": [
        "# Exercise3:\n",
        "\n",
        "Find the roots of the quadratic equation:\n",
        "\n",
        "![image.png](data:image/png;base64,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)"
      ],
      "metadata": {
        "id": "lFyff0nmEaQh"
      }
    },
    {
      "cell_type": "code",
      "source": [
        "a = 1\n",
        "b = 5\n",
        "c = 4\n",
        " \n",
        "delta = b**2 - 4 * a * c\n",
        "delta_sqrt = delta ** (1 / 2)\n",
        " \n",
        "x1 = (-b - delta_sqrt) / (2 * a)\n",
        "x2 = (-b + delta_sqrt) / (2 * a)\n",
        " \n",
        " \n",
        "print(f'x1 = {x1}')\n",
        "print(f'x2 = {x2}')"
      ],
      "metadata": {
        "colab": {
          "base_uri": "https://localhost:8080/"
        },
        "id": "GzW3mAeiEkzu",
        "outputId": "8bccac93-a3b7-4593-97b0-b74232c4cc82"
      },
      "execution_count": null,
      "outputs": [
        {
          "output_type": "stream",
          "name": "stdout",
          "text": [
            "x1 = -4.0\n",
            "x2 = -1.0\n"
          ]
        }
      ]
    }
  ]
}