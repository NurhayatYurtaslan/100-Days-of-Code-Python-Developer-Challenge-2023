{
  "nbformat": 4,
  "nbformat_minor": 0,
  "metadata": {
    "colab": {
      "provenance": [],
      "authorship_tag": "ABX9TyPHyP26QdvNsVHoy9k7SelX",
      "include_colab_link": true
    },
    "kernelspec": {
      "name": "python3",
      "display_name": "Python 3"
    },
    "language_info": {
      "name": "python"
    }
  },
  "cells": [
    {
      "cell_type": "markdown",
      "metadata": {
        "id": "view-in-github",
        "colab_type": "text"
      },
      "source": [
        "<a href=\"https://colab.research.google.com/github/NurhayatYurtaslan/100-Days-of-Code-Python-Developer-Challenge-2023/blob/main/100_Days_of_Code_Day_2.ipynb\" target=\"_parent\"><img src=\"https://colab.research.google.com/assets/colab-badge.svg\" alt=\"Open In Colab\"/></a>"
      ]
    },
    {
      "cell_type": "markdown",
      "source": [
        "### **100 Days of Code: Python Developer Challenge 2023 - Day 2** "
      ],
      "metadata": {
        "id": "n0aXfek97R96"
      }
    },
    {
      "cell_type": "markdown",
      "source": [
        "# Exercise1:\n",
        "\n",
        "Write a program that calculates the delta for the quadratic equation:\n",
        "\n",
        "![image.png](data:image/png;base64,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)\n",
        "\n",
        "Let's show the result in the console!"
      ],
      "metadata": {
        "id": "4iy7ojbz1UOy"
      }
    },
    {
      "cell_type": "code",
      "execution_count": null,
      "metadata": {
        "colab": {
          "base_uri": "https://localhost:8080/"
        },
        "id": "XHIMQOo6zDmb",
        "outputId": "e6f52694-42bc-4593-f46c-ee5a0eb15599"
      },
      "outputs": [
        {
          "output_type": "stream",
          "name": "stdout",
          "text": [
            "Delta: 4\n"
          ]
        }
      ],
      "source": [
        "a = 3\n",
        "b = -4\n",
        "c = 1\n",
        " \n",
        "delta = b**2 - 4 * a * c\n",
        " \n",
        " \n",
        "print(f'Delta: {delta}')"
      ]
    },
    {
      "cell_type": "markdown",
      "source": [
        "# Exercise2:\n",
        "\n",
        "\n",
        "The arithmetic sequence is given with the following formula:\n",
        "\n",
        "![image.png](data:image/png;base64,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)\n",
        "\n",
        "Let's show the result in the console!"
      ],
      "metadata": {
        "id": "kfMRbLq01jAv"
      }
    },
    {
      "cell_type": "code",
      "source": [
        "a1 = 14\n",
        "a10 = 50\n",
        "n = 10\n",
        " \n",
        "s10 = ((a1 + a10) / 2) * n\n",
        " \n",
        " \n",
        "print(f'The sum of the first 10 elements in a sequence: {s10}')"
      ],
      "metadata": {
        "colab": {
          "base_uri": "https://localhost:8080/"
        },
        "id": "lJrn03Sv8R3d",
        "outputId": "404f32ec-c0a7-413d-fad6-76a7f0d5dab8"
      },
      "execution_count": null,
      "outputs": [
        {
          "output_type": "stream",
          "name": "stdout",
          "text": [
            "The sum of the first 10 elements in a sequence: 320.0\n"
          ]
        }
      ]
    },
    {
      "cell_type": "markdown",
      "source": [
        "# Exercise3:\n",
        "\n",
        "The geometric sequence is given with the following formula:\n",
        "\n",
        "![image.png](data:image/png;base64,iVBORw0KGgoAAAANSUhEUgAAAKEAAAAwCAIAAAD2CY0HAAAPb0lEQVR4nO1ba2xUxdufc9tz9tJ2d3vZUltaoS0tVJuIJYhYQNqgQG0oxRo0BiKJF279oiEalBKCUUiKSv2gIKlNvICk0QqNVaAlEEraWgkoKJRaa1oo3e71XPbc5v3whJP9q7vQvqWazf4+kNNzZmeemd8zz20GAmOM4ohpkP+2AHHcc8Q5jn3EOY59xDmOfcQ5jn3EOY59xDmOfcQ4x5qmKYoCz7quT+XQkiQhhFRVjdQgFApF+bksywihsbGxv7yZAGKWY0EQEEIURTEMgxDSdX1qOFZVFdjlOA4hhDEOBALwCWOs67qiKFB3YhgmigbQNI0QSkpKQghpmiYIAkVRExMpZjm2WCwIIV3XZVmeylqepmnALnDJMExCQgLP8+i2IQGdQwiRZLTFJ0lSEAT4CUVRZrOZoihRFCcgUsxyLMsy7F2apgmCIEkSdsa9BsuyoihKksQwjCzL4CmsViuwRRAEQghjDIY6ikher9disTAM097e/uyzz3711VcIIbPZPAGRpmLa/wpMJhNCiCRJRVE0TdN1nSAIeHmvwbIsSZKSJMGG9nq9iYmJsGsVRWEYBmMsyzLLslE6sdvtR44caW1ttdlsFy9eXLVqlSiKJpNpAhY7ZjlWFIUkSU3TKIqCdcEYq6p6r3czmGiapjmOwxjzPG+32yVJ0jTNarUihEAkoF/X9UgWW5KkNWvWVFZW9vb2Njc3a5o2sU2MYphjMNHh7BIEMQXmmiTJ3t7e+vr6W7du1dbWXrp06erVq36/f8WKFU8//TTHcZqmoTCvHAnQwGQysSzLMAz4HYIgwNqPT6SJzeS/D4IgZFlub2/fsGFDTk5Obm7uxo0bjx8/fq/H5Xn+22+/ff3112ma3r59+5IlS/bt21dTU3Po0KH+/n4QDGw1QihKMEhRlKZpYAlANaPHaFEwkZ+BToWndxBEgNzwHqS/Y7oSHvQqimLksn+H8Qn2AYq6QICvv/66rq5u8+bNAwMDv/7665o1a95888133nkHMhYjb4mepyKEfD4fTAQmqCjKl19++fjjj+fl5eXm5m7evLmzsxMiXk3TfD4fx3GCIPh8vpqampKSEpqmA4EAUAtrAhZFFEUwM7IsS5JkfFVVFZ59Ph9BEDabjed5EMCY+7gwEdsFCsWy7MjISFpamqqqFEUZEcRdGpNQKMSyrMlkgpiI4ziwTpGYg1AlFApB3CSKIsYYEqR/xI8//njgwIEDBw44nU6EEEVRZWVlO3fu3LNnz2OPPbZgwQKapn0+n81mY1k2il+UZTkpKQmsvclk8vv9u3fv9ng8n3/+eTAYbGtr+/DDD7/77ruNGzdu3boVIZScnLxt27aGhob+/v5ly5ZBD1euXLHZbKmpqRDtnz17tru7G+y2LMtWq5XjOFEU3W43y7LFxcVz585lGAYk93g8TqeTZVmfzwfp8ngxbo55npdl2eFwiKKYlpZmOAmoKHEcBxwoimIymaKYF5ZlISxiGAbYDYVCBEFEclQQphr+DAIQjHEklRobG+vv7ydJ0uFwIIQYhlEUZebMmTdv3hweHuZ53mq1ggwURUWRE6YjyzIMdOzYMa/X29DQIMuyy+V64YUXdF1vaGg4fPhwUVHRokWLLBaLIAjBYLC0tNRut8O8Tp06VV5enpqaChNZsGDBokWLPB4PyBYKhXRdZxiGoiiYUfikOI5zu92ganfgJgLGbautVqvD4QA6BUEAEyRJEmxlwzjDqkWx1casVFUFQwfbmogACERhROhBluUotmt4eNhkMu3du9fv94M1DgQCXq/XZrNlZWVBJ6A0UKCIBChagWyqqn7zzTdnz57dtm2bpmlgVFavXj1r1qwLFy60tbWB4+R5vqWlJS0tLT093e/3X7x4URCEpUuXfvHFFy0tLRzHgQlxOBzhnRt5PEJIVVXDO2ialpKSQhDEHX1KJEzEH6uq6vF4CIKwWCzgWmDJYDfDusNso5RYSZIURRGSGbPZDCmsrus4AkAPLBaLKIqBQAAsZ5Q4ubS0lOO45ubm6urqn3/+WZIku92+Z8+e+fPnFxYWWiwWWF90p8ICx3FQLAuFQqIogj3o6uryer3Aenp6emZmZnp6+vXr1//44w+E0NWrV2mazs7OZlk2MTHxzJkzWVlZM2bMuHTpksvl4nleVdWkpCRd1zmOgzoJ+IJQKATGjKZpwzFZrVb4yrJslNpnFIzbVrvd7uTk5L6+vk2bNo2NjWGM161bV1BQcPny5dWrVwPr6H+zwIhj0zSQBJOMXqAABccYQ5aJbp83RBoiMzOzpqamsbGxr6+vsrKypKTE7XYvWrRoy5YtCQkJoVAIzD4Y6ij+GMSDaIMgiJUrV+q6vnz5cqfTCaE7xlgQBE3TWJZ1Op2qqgaDQYvFUl5eDt0uX768s7Pztdde27Bhw7x582BQSZJomiZJMnzWsBqapkmSZLVajx8/Xl9fz/N8IBDYvXt3Y2NjVVXVK6+8EmWV/hmR9k0U7NixIz8/v7GxEWM8MjJSXV2dnZ29YsWKgYEBaACKD/HhHTE6Ogor1d7e/tBDD2VHQFFRUWpqqsvlKioqmj59usPhePnll0dHRyN1C5Fqa2trYWFhQUFBZmZmSUnJ/v37vV4vxtjn80EzRVGiGA+McSgUgodAIAByejweeAO5zejoaGVlZVZWVl1dnaIoMGsYXRAEeADAlggGg+CAoXOjf1VVBUGAGnW4hNDP3axkJIyb4/fff7+goOC9996DgXme//jjj7Ozs9etWwfi8jxvCA2rEAlGS0MhYBH/EYbGGH1G50bX9Z6enkcffXTr1q1vvfXWnDlzXC5XXl7e888/D5oBxiP6oMaIMDqcKYX/VtO0gwcP3nfffU8++eT169dBJJhXeLeGGzKmHAwGcZgC/WUuhvU2LDkgXGPuHtE4NgSCEzFd13/55ZcFCxaUl5d3d3cb09i1a1dOTk59fX345EEDQHSYD3QIUkJ6DS8N8qCxHgEYY/DZ0BieVVU1RlRV1ehKVdWOjo7i4uKGhgYIES5fvlxVVZWVlZWbm1tfXw+7GWCI5/f76+rq8vPzm5qajK0TCARw2HaHKRtiXLlyZfHixXPnzj1x4sQ4Vn1qES3mguzTKMCGQqG2trbBwcHU1NTi4mIIjG/dutXf348xLiwsRLeTdFVVzWYzBDXgWuDZYrGwLIsxlmXZ8ENQBwCGjEzs74BES9d1SZJUVSVJEkqV4WEXdKVpWjAYPHr0aEFBwerVq8EfzZo16+jRo3v37tU0raOjA/QD4jg4FJJlWRTFjo6O0dHR1tZWmqYhOLLZbDB98L4Mw3g8HtDRsbGx7du3i6J46NChRx55BE35NYS7xDjiap7nT58+rWnakiVLIF5QFIXn+UuXLk2fPj0vLw8hBLEJRA1QlDfO1MDTQKAEzcAzIYTgBBCqspFGB/4oioJwGlgxvuKwRFlRFEEQLl68OHv2bJfLRZIkSZJgNpYsWVJRUTEwMAAFQrPZDJEqxD4cx23ZsqW6unr9+vWCIFitVlAgr9drCIkQcjgcIMwbb7yh6/qnn35aWFgIwfl/k+OIcTWsmqZpUJSQZVkQBLfbbbPZZs+e7fP5rFarpmlDQ0NDQ0NlZWUzZswYHR1NSUkJBAIJCQno9rUHi8Xi9/sTExPhjSRJYB5giyCEeJ4nSdJsNp85c6a2ttbj8UQSye/3Y4xdLpeu62NjYxUVFe+++y4Ug/D/VsfgrAksObptV0KhUGpqakZGRm5urmFFDM3QdT0xMbGysvKJJ54AFTSCbahUyLLMcVwwGLTZbIODgx999JGqqh988MG0adMQQjdu3Pjtt98WLlw4YSbuHaJx/Jc/wQklJyfb7XaoudA0febMGZZl58yZ43a7P/vss6ysrJycnKampvPnz2/evFkUxe7ublEUk5KSdu7cmZCQYBBM0/TY2FhiYqJhKhcuXHj+/PlIdStD24zj2PC9G/4ruHrx8MMP9/T0XLt2rbCwEG7VsCw7MDBw7ty5p556Ki0tDWI32JowO5IkQR1BvEAgkJSUBKkO/IsQslqtw8PD33///dDQ0P79+43cuqenp7W1tbS09P/Bxb1CRFsNXhCqawghlmUtFkt6errVajVSyc7OzpMnT8qynJubizE+d+5cfn7+yZMn169fX1xcvGvXLoZhGhoaamtr29rarl+/DqkClA8RQk6n08gIYWNpmkZGABhbhJDdboeD4fCjm/D6H9yMWb9+PcdxL730UktLC0IoGAyePn361VdfffDBBysqKhBCJEka/hshRNO0qqqJiYkej4emaUVRQI9Bs+Feh6ZpBEEcPnz4xIkTdXV1NE17PJ6BgYEbN240Nzfff//9E7uLc68RcR+DoaYoChScIAin07ly5codO3b09vbOnDlzeHj4k08+uXLliq7rTqfzhx9+yMrKSk5OFgSBpulr164tW7bsueee03V9aGhoZGQEDiHQbS8AgSsUNBiGkSSJIIjwauhfAIbdqCDSNA2yQTH177t/+vTpR44cOXjw4LFjx1588cWEhISysrJnnnmmtLQ0JSXFuCyg6zowLQgC2BiHw2HYDIwxPMCnYDB46tSppqYmr9c7f/58XdetVisUIG022+LFi6fmOtG4ESXmBv+Hw24T8jzf2Ni4dOnSFStWrF27tqur6+bNm7W1tSUlJWvXroUaiK7rp0+fzsjIaGtrg7Tk7bffXrZsGaRb+G/5aHiuiSPnThAtG43BHhjiheeXkCxhjKGkYLw3xg1vAOmWUZQw2ui3L/tBtA/t/X7/qlWrpk2bNmPGjIKCgoyMjAceeCAzMzMnJ8flcp06dSrKYv6LmEid6x9h5LsY43379s2fP/+nn36CS6PV1dWbNm3y+XyiKMKZYHheH8e9xqTdA4GTYK/XK4ri77//npGR4XA4SJLs6ur6888/582b19fXd/jwYUioJmvQOO4Gk8YxRCV2u/3WrVsXLlwoLCzMzMzUdd3n8wmCkJOTc/LkSZvNBh40yn2POCYdk8axcZg4ODhoMpnmzJkD8XBRUVFubm5TU5PL5aqqqoKr4RO+YhjHBEBMluWEYiSc9Bk3HOC6BULICJuhQmKkm3FMASYt1odj7WAwSFEUEIxvp0ZG5QuFFbTjHE8ZJs1WY4wZhrHZbFDHRreLt6FQyLhZNzo6Clec4gRPJSaNY6iZBINBuPONMYZyv3Ff0+12p6SkYIwDgcB/tFYQo5g0fxzHfxYx+/8k4jAQ5zj2Eec49hHnOPYR5zj2Eec49hHnOPbxf+zNQXEaWsUQAAAAAElFTkSuQmCC)\n",
        "\n",
        "Calculate the sum of the first six elements of this sequence. Let's show the result in the console!"
      ],
      "metadata": {
        "id": "sTKrzjEk-ma-"
      }
    },
    {
      "cell_type": "code",
      "source": [
        "a1 = 8\n",
        "a2 = 8 * 2\n",
        "n = 6\n",
        " \n",
        "q = a2 / a1\n",
        "s6 = a1 * ((1 - q**n) / (1 - q))\n",
        " \n",
        " \n",
        "print(f'The sum of the first {n} elements of the sequence is: {s6}')"
      ],
      "metadata": {
        "colab": {
          "base_uri": "https://localhost:8080/"
        },
        "id": "frBwaMkR-oO9",
        "outputId": "17264575-1e2a-46ad-d18e-926f0bc5a3f7"
      },
      "execution_count": null,
      "outputs": [
        {
          "output_type": "stream",
          "name": "stdout",
          "text": [
            "The sum of the first 6 elements of the sequence is: 504.0\n"
          ]
        }
      ]
    }
  ]
}