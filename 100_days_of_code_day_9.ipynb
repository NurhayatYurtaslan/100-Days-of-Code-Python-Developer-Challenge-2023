{
  "nbformat": 4,
  "nbformat_minor": 0,
  "metadata": {
    "colab": {
      "provenance": [],
      "authorship_tag": "ABX9TyOJiTRXjLY4/645faiTrLJe",
      "include_colab_link": true
    },
    "kernelspec": {
      "name": "python3",
      "display_name": "Python 3"
    },
    "language_info": {
      "name": "python"
    }
  },
  "cells": [
    {
      "cell_type": "markdown",
      "metadata": {
        "id": "view-in-github",
        "colab_type": "text"
      },
      "source": [
        "<a href=\"https://colab.research.google.com/github/NurhayatYurtaslan/100-Days-of-Code-Python-Developer-Challenge-2023/blob/main/100_days_of_code_day_9.ipynb\" target=\"_parent\"><img src=\"https://colab.research.google.com/assets/colab-badge.svg\" alt=\"Open In Colab\"/></a>"
      ]
    },
    {
      "cell_type": "markdown",
      "source": [
        "### **100 Days of Code: Python Developer Challenge 2023 - Day 9** "
      ],
      "metadata": {
        "id": "keagizgKy3i-"
      }
    },
    {
      "cell_type": "markdown",
      "source": [
        "# Exercise1:\n",
        "\n",
        "The following set is given:\n",
        "\n",
        "subjects = {'mathematics', 'biology', 'physics'}\n",
        "\n",
        "Using the appropriate method add 'english' to this set. In response print subjects set to the console."
      ],
      "metadata": {
        "id": "GwcnpJ55y_Yl"
      }
    },
    {
      "cell_type": "code",
      "execution_count": 1,
      "metadata": {
        "colab": {
          "base_uri": "https://localhost:8080/"
        },
        "id": "CRARTe64y0tv",
        "outputId": "c64d61f3-24aa-4072-e811-52a7efbcc2cb"
      },
      "outputs": [
        {
          "output_type": "stream",
          "name": "stdout",
          "text": [
            "{'english', 'biology', 'physics', 'mathematics'}\n"
          ]
        }
      ],
      "source": [
        "subjects = {'mathematics', 'biology', 'physics'}\n",
        " \n",
        "subjects.add('english')\n",
        " \n",
        " \n",
        "print(subjects)"
      ]
    },
    {
      "cell_type": "markdown",
      "source": [
        "# Exercise2:\n",
        "\n",
        "The following text is given:\n",
        "\n",
        "text = '100 Days of Code: Python Developer Challenge 2023 | Day 9'\n",
        "\n",
        "Follow the next steps:\n",
        "\n",
        "1.Change all letters to lowercase.\n",
        "\n",
        "2.Delete spaces and period.\n",
        "\n",
        "3.Create a set consisting of all letters in the text and assign to letters variable\n",
        "\n",
        "4.Using the appropriate method for sets, remove all vowels from letters set:\n",
        "\n",
        "vowels = {'a', 'e', 'i', 'o', 'u'}\n",
        "\n",
        "5.Print the number of items in the letters set as shown below."
      ],
      "metadata": {
        "id": "dh6A1YwLzOCK"
      }
    },
    {
      "cell_type": "code",
      "source": [
        "text = '100 Days of Code: Python Developer Challenge 2023 | Day 9'\n",
        " \n",
        "text = text.lower()\n",
        "text = text.replace(' ', '')\n",
        "text = text.replace('.', '')\n",
        "vowels = {'a', 'e', 'i', 'o', 'u'}\n",
        "letters = set(text)\n",
        "consonants = letters.difference(vowels)\n",
        " \n",
        " \n",
        "print(f'Number of items: {len(consonants)}')"
      ],
      "metadata": {
        "colab": {
          "base_uri": "https://localhost:8080/"
        },
        "id": "hLlKcCol0Bao",
        "outputId": "2460aafe-f6f9-43c5-ea91-daca12523a76"
      },
      "execution_count": 2,
      "outputs": [
        {
          "output_type": "stream",
          "name": "stdout",
          "text": [
            "Number of items: 20\n"
          ]
        }
      ]
    },
    {
      "cell_type": "markdown",
      "source": [
        "# Exercise3:\n",
        "In mathematics, the symmetric difference of two sets is the set of elements which are in either of the sets, but not in their intersection.\n",
        "Two following sets are given:\n",
        "\n",
        "A = {2, 4, 6, 8, 12}\n",
        "\n",
        "B = {4, 10, 8}\n",
        "\n",
        "Using the appropriate method, extract the symmetrical difference of sets A and B and print the result to the console."
      ],
      "metadata": {
        "id": "mlt9iHovCEtU"
      }
    },
    {
      "cell_type": "code",
      "source": [
        "A = {2, 4, 6, 8, 12}\n",
        "B = {4, 10, 8}\n",
        " \n",
        "sym_diff = A.symmetric_difference(B)\n",
        " \n",
        " \n",
        "print(f'Symmetric difference: {sym_diff}')"
      ],
      "metadata": {
        "colab": {
          "base_uri": "https://localhost:8080/"
        },
        "id": "Q4BGMeDDCIni",
        "outputId": "83ca4338-426b-444c-e594-530d4446ab70"
      },
      "execution_count": 1,
      "outputs": [
        {
          "output_type": "stream",
          "name": "stdout",
          "text": [
            "Symmetric difference: {2, 6, 10, 12}\n"
          ]
        }
      ]
    }
  ]
}